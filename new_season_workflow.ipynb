{
 "cells": [
  {
   "cell_type": "code",
   "execution_count": null,
   "metadata": {},
   "outputs": [],
   "source": [
    "import numpy as np\n",
    "import pandas as pd\n",
    "import requests\n",
    "import gspread\n",
    "gc = gspread.oauth()"
   ]
  },
  {
   "cell_type": "markdown",
   "metadata": {},
   "source": [
    "# UKBBL Season Changeover Automation\n",
    "\n",
    "This workflow is designed to simplify(?) the process of dealing with promotions / demotions of teams each season for the UKBBL league. It pulls league information from the goblinspy website, (semi)automatically processes this based on rankings and coaches decisions for next season, and then pushes the new division lists to googlesheets.\n",
    "\n",
    "Inputs required:\n",
    "1. the season settings below will need updating each season (principally 'division_dict', to reflect the unique division ID numbers)\n",
    "2. a file called 'google_folder_id.txt', containing a single string for the folder ID number (this is the string after: https://drive.google.com/drive/folders/)\n",
    "\n",
    "Preparation process:\n",
    "1. download league tables\n",
    "2. push these to a defined googlesheet\n",
    "3. edit the googlesheet if required (will need to write code to download sheet again if this is required) \n",
    "4. create coach list, and push to defined googlesheet\n",
    "5. manually add coach intentions to the googlesheet\n",
    "\n",
    "Season changeover process:\n",
    "1. download league tables (as above, but should download from googlesheet instead)\n",
    "2. download coach list (with intentions for new season) from googlesheet\n",
    "3. run changeover code (allocating new division levels, but not specific divisions)\n",
    "4. push new listings to googlesheet\n",
    "5. manually allocate coaches within each division level to their new divisions"
   ]
  },
  {
   "cell_type": "code",
   "execution_count": null,
   "metadata": {},
   "outputs": [],
   "source": [
    "original_columns = ['coach_name','team_name','idcompetition','idrace','cas','td','ranking','points','sorting']\n",
    "\n",
    "source_directory = 'season41_test_tables'\n",
    "\n",
    "\n",
    "gspy_api_post_string = 'https://www.mordrek.com:666/api/comp/{}/sorting/{}'\n",
    "gspy_api_get_string = 'https://www.mordrek.com:666/api/comp/{}/standings'\n",
    "\n",
    "sorting_base_string = '{}%2C%20{}%2C%20{}%2C%20{}'\n",
    "\n",
    "column_drop_list = ['idrace', 'idstanding', \n",
    "       'wins', 'draws', 'losses', 'td', 'td_opp', 'td_diff', 'cas', 'cas_opp',\n",
    "       'cas_diff', 'concedes', 'team_value', 'kills',  'gp',\n",
    "       'idteam', 'logo', 'twitch', 'youtube', 'idcoach']\n",
    "column_keep_list = ['active', 'ranking', 'position',  'points', 'sorting', 'coach_name', 'team_name', 'active']\n",
    "\n",
    "race_dict = {'1':'Human','2':'Dwarf','3':'Skaven','4':'Orc','5':'Lizard','6':'Goblin',\n",
    "             '7':'Wood Elf','8':'Chaos','9':'Dark Elf','10':'Undead','11':'Halfling','12':'Norse',\n",
    "             '13':'Amazon','14':'Eleven Union','15':'High Elf','16':'Khemri','17':'Necromantic','18':'Nurgle',\n",
    "             '19':'Ogre','20':'Vampire','21':'Chaos Dwarf','22':'Underworld','23':'','24':'Brettonian',\n",
    "             '25':'Kislev'}\n",
    "\n",
    "with open('google_folder_id.txt', 'r') as file:\n",
    "    google_folder_string = file.read().replace('\\n', '')\n"
   ]
  },
  {
   "cell_type": "code",
   "execution_count": null,
   "metadata": {},
   "outputs": [],
   "source": [
    "def download_table(division_string,sort_string,division_values):\n",
    "    \n",
    "    try:\n",
    "        response = requests.post(gspy_api_post_string.format(division_string,sort_string))\n",
    "        response = requests.get(gspy_api_get_string.format(division_string))\n",
    "    except:\n",
    "        print('wtf!')\n",
    "    \n",
    "    division_table = pd.DataFrame(response.json()['rows'],columns=response.json()['cols'])\n",
    "    division_table['division_name'] = division_values[0]\n",
    "    division_table['division_level'] = division_values[1]\n",
    "    \n",
    "    return(division_table)\n"
   ]
  },
  {
   "cell_type": "code",
   "execution_count": null,
   "metadata": {},
   "outputs": [],
   "source": [
    "division_dict = {'12981':['Premiership West S41',1],\n",
    "                     '12980':['Premiership East S41',1],\n",
    "                     '12979':['Altdorf East S41',2],\n",
    "                     '12978':['Altdorf West S41',2],\n",
    "                     '12976':['Barren Hills West S41',3],\n",
    "                     '12977':['Kolsa Hills East S41',3],\n",
    "                     '12974':['Laurelorn Forest West S41',4],\n",
    "                     '12975':['Gryphons Wood East S41',4]}\n",
    "\n",
    "sorting_options = ['3-1-0','TDD','H2H','CW']\n",
    "\n",
    "sort_string = sorting_base_string.format(sorting_options[0],sorting_options[1],sorting_options[2],sorting_options[3])\n"
   ]
  },
  {
   "cell_type": "markdown",
   "metadata": {},
   "source": [
    "## Download division information from goblinspy\n",
    "\n",
    "Run through the division list, and pull each down using the 'download_table' function. Then add the race name based on the raceid number, and convert the position and ranking values to numbers rather than strings."
   ]
  },
  {
   "cell_type": "code",
   "execution_count": null,
   "metadata": {},
   "outputs": [],
   "source": [
    "full_division_tables = pd.DataFrame()\n",
    "for division_string,division_values in division_dict.items():\n",
    "    full_division_tables = full_division_tables.append(download_table(division_string,sort_string,division_values))    \n"
   ]
  },
  {
   "cell_type": "code",
   "execution_count": null,
   "metadata": {},
   "outputs": [],
   "source": [
    "division_tables"
   ]
  },
  {
   "cell_type": "code",
   "execution_count": null,
   "metadata": {},
   "outputs": [],
   "source": [
    "division_tables = full_division_tables.copy(deep=True)\n",
    "division_tables['race'] = [race_dict[x] for x in division_tables['idrace']]\n",
    "division_tables.drop(columns=column_drop_list,inplace=True)\n"
   ]
  },
  {
   "cell_type": "code",
   "execution_count": null,
   "metadata": {},
   "outputs": [],
   "source": [
    "division_tables['position']=[int(x) for x in division_tables['position']]\n",
    "division_tables['points']=[int(x) for x in division_tables['points']]\n",
    "division_tables['ranking']=[float(x) for x in division_tables['ranking']]\n",
    "division_tables['sorting']=[float(x) for x in division_tables['sorting']]"
   ]
  },
  {
   "cell_type": "markdown",
   "metadata": {},
   "source": [
    "## Uploading Divisions to a storage google sheet\n",
    "\n",
    "Run these steps if the division tables need updating"
   ]
  },
  {
   "cell_type": "code",
   "execution_count": null,
   "metadata": {},
   "outputs": [],
   "source": [
    "division_list_name = 'S41_division_tables'"
   ]
  },
  {
   "cell_type": "code",
   "execution_count": null,
   "metadata": {},
   "outputs": [],
   "source": [
    "division_sheet = gc.create(title=division_list_name,folder_id=google_folder_string)\n",
    "worksheet = division_sheet.sheet1\n",
    "worksheet.update([division_tables.columns.values.tolist()] + division_tables.values.tolist())"
   ]
  },
  {
   "cell_type": "code",
   "execution_count": null,
   "metadata": {},
   "outputs": [],
   "source": [
    "for division_string,division_values in division_dict.items():\n",
    "    div_title = division_values[0]\n",
    "    division_sheet.add_worksheet(div_title,rows=30,cols=30)\n",
    "    div_temp = division_tables[division_tables['division_name']==div_title]\n",
    "    division_sheet.worksheet(div_title).update([div_temp.columns.values.tolist()] + div_temp.values.tolist())"
   ]
  },
  {
   "cell_type": "markdown",
   "metadata": {},
   "source": [
    "## Creating the coach list\n",
    "\n",
    "Run these steps only once, to create a spreadsheet with division and coach names. Then fill the decisions\n",
    "column in by hand."
   ]
  },
  {
   "cell_type": "code",
   "execution_count": null,
   "metadata": {},
   "outputs": [],
   "source": [
    "coach_list_name = 'coach_decisions_S41'"
   ]
  },
  {
   "cell_type": "code",
   "execution_count": null,
   "metadata": {},
   "outputs": [],
   "source": [
    "coach_list = division_tables[['division_name','coach_name']]"
   ]
  },
  {
   "cell_type": "code",
   "execution_count": null,
   "metadata": {},
   "outputs": [],
   "source": [
    "coach_sheet = gc.create(title=coach_list_name,folder_id=google_folder_string)\n",
    "worksheet = coach_sheet.sheet1\n",
    "worksheet.update([coach_list.columns.values.tolist()] + coach_list.values.tolist())"
   ]
  },
  {
   "cell_type": "code",
   "execution_count": null,
   "metadata": {},
   "outputs": [],
   "source": [
    "worksheet.update('C1','decisions')\n",
    "worksheet.format('A1:C1', {'textFormat': {'bold': True}})"
   ]
  },
  {
   "cell_type": "markdown",
   "metadata": {},
   "source": [
    "## Download coach list, including decisions for next season\n",
    "\n",
    "This pulls the coach decisions from the "
   ]
  },
  {
   "cell_type": "code",
   "execution_count": null,
   "metadata": {},
   "outputs": [],
   "source": [
    "coach_sheet = gc.open(title=coach_list_name)\n",
    "worksheet = coach_sheet.sheet1"
   ]
  },
  {
   "cell_type": "code",
   "execution_count": null,
   "metadata": {},
   "outputs": [],
   "source": [
    "dataframe = pd.DataFrame(worksheet.get_all_records())"
   ]
  },
  {
   "cell_type": "code",
   "execution_count": null,
   "metadata": {},
   "outputs": [],
   "source": [
    "division_tables = division_tables.merge(dataframe[['coach_name','decisions']],how='left',on='coach_name')"
   ]
  },
  {
   "cell_type": "markdown",
   "metadata": {},
   "source": [
    "## Preparing database for processing work\n",
    "\n",
    "We will rename the division name column, and add some new columns.\n",
    "\n",
    "Also the functions for assigning teams to the new division levels, removing dropouts and assigning rerollers to level 4, and promoting to fill gaps in upper levels will be defined."
   ]
  },
  {
   "cell_type": "code",
   "execution_count": null,
   "metadata": {},
   "outputs": [],
   "source": [
    "division_tables.columns"
   ]
  },
  {
   "cell_type": "code",
   "execution_count": null,
   "metadata": {},
   "outputs": [],
   "source": [
    "division_tables = division_tables.rename(columns={'division_name':'orig_div_name','division_level':'orig_div_level'})"
   ]
  },
  {
   "cell_type": "code",
   "execution_count": null,
   "metadata": {},
   "outputs": [],
   "source": [
    "division_tables['new_div_name'] = ''\n",
    "division_tables['new_div_level'] = np.nan"
   ]
  },
  {
   "cell_type": "code",
   "execution_count": null,
   "metadata": {},
   "outputs": [],
   "source": [
    "division_tables['position']=[int(x) for x in division_tables['position']]"
   ]
  },
  {
   "cell_type": "code",
   "execution_count": null,
   "metadata": {},
   "outputs": [],
   "source": [
    "def assign_new_div_level(div_table,orig_level,promote_number,demote_number,division_number):\n",
    "    all_index = div_table.loc[div_table['orig_div_level']==orig_level].index\n",
    "    promote_index = div_table.loc[div_table['orig_div_level']==orig_level].loc[div_table['position']<=promote_number].index\n",
    "    demote_index = div_table.loc[div_table['orig_div_level']==orig_level] \\\n",
    "                            .loc[div_table['position']>(division_number-demote_number)].index\n",
    "    div_table.loc[all_index,'new_div_level'] = orig_level\n",
    "    if promote_number > 0:\n",
    "        div_table.loc[promote_index,'new_div_level'] = orig_level - 1\n",
    "    if demote_number > 0:\n",
    "        div_table.loc[demote_index,'new_div_level'] = orig_level + 1\n",
    "    #return(div_table)\n",
    "\n",
    "def assign_rerollers_remove_dropouts(div_table,reroll_string,dropout_string):\n",
    "    reroll_index = div_table.loc[div_table['decisions']==reroll_string].index\n",
    "    dropout_index = div_table.loc[div_table['decisions']==dropout_string].index\n",
    "    div_table.loc[reroll_index,'new_div_level'] = 4\n",
    "    div_table.loc[dropout_index,'new_div_level'] = -999\n",
    "    #return(div_table)\n",
    "\n",
    "def promote_to_fill_gaps(div_table,div_level,req_number_teams):\n",
    "    supply_level = div_level+1.0\n",
    "    starting_number_teams = div_table.loc[div_table['new_div_level']==div_level,'race'].count()\n",
    "    for value in range(starting_number_teams,req_number_teams,1):\n",
    "        search_value = div_table.loc[div_table['orig_div_level']==supply_level]\\\n",
    "                                .loc[div_table['new_div_level']==supply_level,'ranking'].max()\n",
    "        team_index = div_table.loc[div_table['orig_div_level']==supply_level]\\\n",
    "                              .loc[div_table['new_div_level']==supply_level]\\\n",
    "                              .loc[div_table['ranking']==search_value].index\n",
    "        div_table.loc[team_index[0],'new_div_level'] = div_level\n"
   ]
  },
  {
   "cell_type": "markdown",
   "metadata": {},
   "source": [
    "## Assigning Teams for the New Season\n",
    "\n",
    "Here we run the new season process.\n",
    "1. dealing with promotions / demotions (carried out for each old division level, assigning how many will be promoted / demoted, as well as old division size)\n",
    "2. assigning rerollers to division level 4, and assigning leaving coaches to level -999\n",
    "3. promoting teams to fill gaps in each division level (starting from level 1, and working downwards)\n",
    "\n",
    "Step 3 is run on a copy of the division tables, so that we can recover the original listing if anything goes wrong there.\n",
    "\n",
    "After these steps we print out the numbers for each new division level, as a reality check, and for any teams which remained in their original division we allocate them the new division name now."
   ]
  },
  {
   "cell_type": "code",
   "execution_count": null,
   "metadata": {},
   "outputs": [],
   "source": [
    "assign_new_div_level(division_tables,1,0,3,12)\n",
    "assign_new_div_level(division_tables,2,3,3,12)\n",
    "assign_new_div_level(division_tables,3,3,3,12)\n",
    "assign_new_div_level(division_tables,4,3,0,14)"
   ]
  },
  {
   "cell_type": "code",
   "execution_count": null,
   "metadata": {},
   "outputs": [],
   "source": [
    "assign_rerollers_remove_dropouts(division_tables,'twist','out')"
   ]
  },
  {
   "cell_type": "code",
   "execution_count": null,
   "metadata": {},
   "outputs": [],
   "source": [
    "div_test = division_tables.copy(deep=True)\n",
    "promote_to_fill_gaps(div_test,1,24)\n",
    "promote_to_fill_gaps(div_test,2,24)\n",
    "promote_to_fill_gaps(div_test,3,24)"
   ]
  },
  {
   "cell_type": "code",
   "execution_count": null,
   "metadata": {},
   "outputs": [],
   "source": [
    "div_test[['new_div_level','team_name']].groupby('new_div_level').count()"
   ]
  },
  {
   "cell_type": "code",
   "execution_count": null,
   "metadata": {},
   "outputs": [],
   "source": [
    "div_test.loc[div_test['new_div_level']==div_test['orig_div_level'],'new_div_name'] = \\\n",
    "                      [x.replace('S41','S42') for x in div_test.loc[div_test['new_div_level']==div_test['orig_div_level'],'orig_div_name'] ]"
   ]
  },
  {
   "cell_type": "code",
   "execution_count": null,
   "metadata": {},
   "outputs": [],
   "source": [
    "div_test.loc[div_test['decisions']=='twist',['team_name','new_div_name','race',]]=''"
   ]
  },
  {
   "cell_type": "code",
   "execution_count": null,
   "metadata": {},
   "outputs": [],
   "source": [
    "div_test.loc[div_test['new_div_level']==1,['team_name','coach_name','new_div_name','race','orig_div_level','decisions']]"
   ]
  },
  {
   "cell_type": "markdown",
   "metadata": {},
   "source": [
    "## Uploading new division tables to googlesheets\n",
    "\n",
    "Do this once the messy sorting has been done. The final tidying up of the division allocations can be carried out by hand in the googlesheets document."
   ]
  },
  {
   "cell_type": "code",
   "execution_count": null,
   "metadata": {},
   "outputs": [],
   "source": [
    "new_division_list_name = 'S42_division_tables'"
   ]
  },
  {
   "cell_type": "code",
   "execution_count": null,
   "metadata": {},
   "outputs": [],
   "source": [
    "division_sheet = gc.create(title=new_division_list_name,folder_id=google_folder_string)\n",
    "#worksheet = division_sheet.sheet1\n",
    "#worksheet.update([division_tables.columns.values.tolist()] + division_tables.values.tolist())"
   ]
  },
  {
   "cell_type": "code",
   "execution_count": null,
   "metadata": {},
   "outputs": [],
   "source": [
    "for level in div_test['new_div_level'].unique():\n",
    "    sheet_title = 'level {}'.format(level)\n",
    "    division_sheet.add_worksheet(sheet_title,rows=40,cols=20)\n",
    "    div_temp = div_test.loc[div_test['new_div_level']==level,['team_name','coach_name','new_div_name','race','orig_div_level','decisions']]\n",
    "    division_sheet.worksheet(sheet_title).update([div_temp.columns.values.tolist()] + div_temp.values.tolist())"
   ]
  },
  {
   "cell_type": "code",
   "execution_count": null,
   "metadata": {},
   "outputs": [],
   "source": [
    "div_test['new_div_level'].unique()"
   ]
  },
  {
   "cell_type": "code",
   "execution_count": null,
   "metadata": {},
   "outputs": [],
   "source": []
  }
 ],
 "metadata": {
  "kernelspec": {
   "display_name": "Python 3",
   "language": "python",
   "name": "python3"
  },
  "language_info": {
   "codemirror_mode": {
    "name": "ipython",
    "version": 3
   },
   "file_extension": ".py",
   "mimetype": "text/x-python",
   "name": "python",
   "nbconvert_exporter": "python",
   "pygments_lexer": "ipython3",
   "version": "3.7.9"
  }
 },
 "nbformat": 4,
 "nbformat_minor": 4
}
